{
 "cells": [
  {
   "cell_type": "code",
   "execution_count": null,
   "id": "8a25c840-8860-41d5-8e02-a98962550e1a",
   "metadata": {},
   "outputs": [],
   "source": [
    "import sqlite3\n",
    "from pathlib import Path\n",
    "import pandas as pd\n",
    "import matplotlib.pyplot as plt\n",
    "\n",
    "\n",
    "Path(\"student_grades.db\").touch()\n",
    "connection =sqlite3.connect(\"student_grades.db\")\n",
    "cursor = connection.cursor()\n",
    "\n",
    "cursor.execute(\n",
    "    \"\"\"CREATE TABLE IF NOT EXISTS students (\n",
    "        student_id INTEGER PRIMARY KEY AUTOINCREMENT,\n",
    "        first_name TEXT,\n",
    "        last_name TEXT\n",
    "        ); \"\"\"\n",
    ")\n",
    "\n",
    "cursor.execute(\n",
    "    \"\"\"CREATE TABLE IF NOT EXISTS grades (\n",
    "        grade_id INTEGER PRIMARY KEY AUTOINCREMENT,\n",
    "        student_id INT,\n",
    "        subject TEXT,\n",
    "        grade INT,\n",
    "        FOREIGN KEY (student_id) REFERENCES students(student_id)\n",
    "        );\n",
    "    \"\"\"\n",
    ")\n",
    "\n",
    "student_data = [\n",
    "    (\"Randal\", \"Woodward\"),\n",
    "    (\"Mauricio\", \"Fisher\"),\n",
    "    (\"Miguel\", \"Horne\"),\n",
    "    (\"Carlene\", \"Mcclure\"),\n",
    "    (\"Lynne\", \"Richard\")\n",
    "]\n",
    "\n",
    "cursor.executemany('''\n",
    "INSERT INTO students (first_name, last_name) VALUES (?, ?);\n",
    "''', student_data)\n",
    "\n",
    "grade_data = [\n",
    "    (1, \"Math\", 90),\n",
    "    (1, \"English\", 95),\n",
    "    (1, \"History\", 98),\n",
    "    (2, \"Math\", 80),\n",
    "    (2, \"English\", 85),\n",
    "    (2, \"History\", 88),\n",
    "    (3, \"Math\", 90),\n",
    "    (3, \"English\", 90),\n",
    "    (3, \"History\", 90),\n",
    "    (4, \"Math\", 89),\n",
    "    (4, \"English\", 91),\n",
    "    (4, \"History\", 93),\n",
    "    (5, \"Math\", 88),\n",
    "    (5, \"English\", 99),\n",
    "    (5, \"History\", 90)\n",
    "]\n",
    "\n",
    "cursor.executemany('''\n",
    "INSERT INTO grades (student_id, subject, grade) VALUES (?, ?,?);\n",
    "''', grade_data)\n",
    "\n",
    "\n",
    "\n"
   ]
  },
  {
   "cell_type": "code",
   "execution_count": 7,
   "id": "33224687-db27-4110-93bd-7455cd9ae9cf",
   "metadata": {},
   "outputs": [
    {
     "name": "stdout",
     "output_type": "stream",
     "text": [
      "Student Names and Grades\n",
      "('Randal', 'Woodward', 'Math', 90)\n",
      "('Randal', 'Woodward', 'English', 95)\n",
      "('Randal', 'Woodward', 'History', 98)\n",
      "('Mauricio', 'Fisher', 'Math', 80)\n",
      "('Mauricio', 'Fisher', 'English', 85)\n",
      "('Mauricio', 'Fisher', 'History', 88)\n",
      "('Miguel', 'Horne', 'Math', 90)\n",
      "('Miguel', 'Horne', 'English', 90)\n",
      "('Miguel', 'Horne', 'History', 90)\n",
      "('Carlene', 'Mcclure', 'Math', 89)\n",
      "('Carlene', 'Mcclure', 'English', 91)\n",
      "('Carlene', 'Mcclure', 'History', 93)\n",
      "('Lynne', 'Richard', 'Math', 88)\n",
      "('Lynne', 'Richard', 'English', 99)\n",
      "('Lynne', 'Richard', 'History', 90)\n"
     ]
    }
   ],
   "source": [
    "#QUERY 1: Retrieve all students' names and their grades.\n",
    "cursor.execute(\"\"\"SELECT students.first_name, students.last_name, grades.subject, grades.grade \n",
    "FROM students\n",
    "JOIN grades ON grades.student_id = students.student_id;\n",
    "\"\"\")\n",
    "rows= cursor.fetchall()\n",
    "\n",
    "print(\"Student Names and Grades\")\n",
    "for row in rows:\n",
    "    print(row)"
   ]
  },
  {
   "cell_type": "code",
   "execution_count": 9,
   "id": "3e06ac52-b0cf-42c2-b87b-82946bc35424",
   "metadata": {},
   "outputs": [
    {
     "name": "stdout",
     "output_type": "stream",
     "text": [
      "Average Grade For Each Student\n",
      "('Randal', 'Woodward', 94.33333333333333)\n",
      "('Mauricio', 'Fisher', 84.33333333333333)\n",
      "('Miguel', 'Horne', 90.0)\n",
      "('Carlene', 'Mcclure', 91.0)\n",
      "('Lynne', 'Richard', 92.33333333333333)\n"
     ]
    }
   ],
   "source": [
    "#QUERY 2: Find the average grade for each student.\n",
    "cursor.execute(\"\"\"SELECT students.first_name, students.last_name, AVG (grades.grade) AS \"Grade Average\"\n",
    "FROM grades\n",
    "JOIN students ON grades.student_id = students.student_id\n",
    "GROUP BY grades.student_id\n",
    ";\n",
    "\"\"\")\n",
    "rows= cursor.fetchall()\n",
    "\n",
    "print(\"Average Grade For Each Student\")\n",
    "for row in rows:\n",
    "    print(row)"
   ]
  },
  {
   "cell_type": "code",
   "execution_count": 11,
   "id": "516b8335-ef02-428f-b202-8b41e6973435",
   "metadata": {},
   "outputs": [
    {
     "name": "stdout",
     "output_type": "stream",
     "text": [
      "Student with Highest Average Grade\n",
      "[('Randal', 'Woodward', 94.33333333333333)]\n"
     ]
    }
   ],
   "source": [
    "#QUERY 3: Find the student with the highest average grade.\n",
    "cursor.execute(\"\"\"SELECT students.first_name, students.last_name, AVG (grades.grade) AS \"Grade Average\" \n",
    "FROM grades\n",
    "JOIN students ON grades.student_id = students.student_id\n",
    "GROUP BY grades.student_id\n",
    "ORDER BY \"Grade Average\" DESC\n",
    "LIMIT 1\n",
    ";\n",
    "\"\"\")\n",
    "\n",
    "rows= cursor.fetchall()\n",
    "\n",
    "print(\"Student with Highest Average Grade\")\n",
    "print (rows)"
   ]
  },
  {
   "cell_type": "code",
   "execution_count": 13,
   "id": "7f7219ed-6289-4321-8f1e-57a3f2cb49cd",
   "metadata": {},
   "outputs": [
    {
     "name": "stdout",
     "output_type": "stream",
     "text": [
      "Average Grade for the Math Subject\n",
      "[('Math', 87.4)]\n"
     ]
    }
   ],
   "source": [
    "#QUERY 4: Find the average grade for the Math subject.\n",
    "cursor.execute(\"\"\"SELECT subject, AVG (grade) AS \"Math Average\" \n",
    "FROM grades\n",
    "WHERE subject = \"Math\"\n",
    ";\n",
    "\"\"\")\n",
    "rows= cursor.fetchall()\n",
    "\n",
    "print(\"Average Grade for the Math Subject\")\n",
    "print (rows)"
   ]
  },
  {
   "cell_type": "code",
   "execution_count": 19,
   "id": "8dc819f9-f2ea-493f-8a05-dff7953ef950",
   "metadata": {},
   "outputs": [
    {
     "name": "stdout",
     "output_type": "stream",
     "text": [
      "Students Who Scored Above 90 in Any Subject\n",
      "('Randal', 'Woodward', 'English', 95)\n",
      "('Randal', 'Woodward', 'History', 98)\n",
      "('Carlene', 'Mcclure', 'English', 91)\n",
      "('Carlene', 'Mcclure', 'History', 93)\n",
      "('Lynne', 'Richard', 'English', 99)\n"
     ]
    }
   ],
   "source": [
    "#QUERY 5: List all students who scored above 90 in any subject.\n",
    "cursor.execute(\"\"\"SELECT students.first_name, students.last_name, grades.subject, grades.grade\n",
    "FROM grades\n",
    "JOIN students ON grades.student_id = students.student_id\n",
    "WHERE grades.grade > 90\n",
    ";\n",
    "\"\"\")\n",
    "\n",
    "rows= cursor.fetchall()\n",
    "\n",
    "print(\"Students Who Scored Above 90 in Any Subject\")\n",
    "for row in rows:\n",
    "    print(row)"
   ]
  },
  {
   "cell_type": "code",
   "execution_count": 21,
   "id": "d9c2b088-8f63-4af9-9f57-e6bc2b22fae0",
   "metadata": {},
   "outputs": [],
   "source": [
    "#LOAD DATA INTO PANDAS\n",
    "#1.Use Pandas to load the data from the students and grades tables into DataFrames.\n",
    "df_students = pd.read_sql_query(\"\"\"SELECT * FROM students\"\"\", connection)\n",
    "df_grades = pd.read_sql_query(\"\"\"SELECT * FROM grades\"\"\", connection)"
   ]
  },
  {
   "cell_type": "code",
   "execution_count": 23,
   "id": "ade898d3-1570-4c98-ae2e-740c2b5af37e",
   "metadata": {},
   "outputs": [
    {
     "data": {
      "text/html": [
       "<div>\n",
       "<style scoped>\n",
       "    .dataframe tbody tr th:only-of-type {\n",
       "        vertical-align: middle;\n",
       "    }\n",
       "\n",
       "    .dataframe tbody tr th {\n",
       "        vertical-align: top;\n",
       "    }\n",
       "\n",
       "    .dataframe thead th {\n",
       "        text-align: right;\n",
       "    }\n",
       "</style>\n",
       "<table border=\"1\" class=\"dataframe\">\n",
       "  <thead>\n",
       "    <tr style=\"text-align: right;\">\n",
       "      <th></th>\n",
       "      <th>first_name</th>\n",
       "      <th>last_name</th>\n",
       "      <th>subject</th>\n",
       "      <th>grade</th>\n",
       "    </tr>\n",
       "  </thead>\n",
       "  <tbody>\n",
       "    <tr>\n",
       "      <th>0</th>\n",
       "      <td>Randal</td>\n",
       "      <td>Woodward</td>\n",
       "      <td>Math</td>\n",
       "      <td>90</td>\n",
       "    </tr>\n",
       "    <tr>\n",
       "      <th>1</th>\n",
       "      <td>Randal</td>\n",
       "      <td>Woodward</td>\n",
       "      <td>English</td>\n",
       "      <td>95</td>\n",
       "    </tr>\n",
       "    <tr>\n",
       "      <th>2</th>\n",
       "      <td>Randal</td>\n",
       "      <td>Woodward</td>\n",
       "      <td>History</td>\n",
       "      <td>98</td>\n",
       "    </tr>\n",
       "    <tr>\n",
       "      <th>3</th>\n",
       "      <td>Mauricio</td>\n",
       "      <td>Fisher</td>\n",
       "      <td>Math</td>\n",
       "      <td>80</td>\n",
       "    </tr>\n",
       "    <tr>\n",
       "      <th>4</th>\n",
       "      <td>Mauricio</td>\n",
       "      <td>Fisher</td>\n",
       "      <td>English</td>\n",
       "      <td>85</td>\n",
       "    </tr>\n",
       "    <tr>\n",
       "      <th>5</th>\n",
       "      <td>Mauricio</td>\n",
       "      <td>Fisher</td>\n",
       "      <td>History</td>\n",
       "      <td>88</td>\n",
       "    </tr>\n",
       "    <tr>\n",
       "      <th>6</th>\n",
       "      <td>Miguel</td>\n",
       "      <td>Horne</td>\n",
       "      <td>Math</td>\n",
       "      <td>90</td>\n",
       "    </tr>\n",
       "    <tr>\n",
       "      <th>7</th>\n",
       "      <td>Miguel</td>\n",
       "      <td>Horne</td>\n",
       "      <td>English</td>\n",
       "      <td>90</td>\n",
       "    </tr>\n",
       "    <tr>\n",
       "      <th>8</th>\n",
       "      <td>Miguel</td>\n",
       "      <td>Horne</td>\n",
       "      <td>History</td>\n",
       "      <td>90</td>\n",
       "    </tr>\n",
       "    <tr>\n",
       "      <th>9</th>\n",
       "      <td>Carlene</td>\n",
       "      <td>Mcclure</td>\n",
       "      <td>Math</td>\n",
       "      <td>89</td>\n",
       "    </tr>\n",
       "    <tr>\n",
       "      <th>10</th>\n",
       "      <td>Carlene</td>\n",
       "      <td>Mcclure</td>\n",
       "      <td>English</td>\n",
       "      <td>91</td>\n",
       "    </tr>\n",
       "    <tr>\n",
       "      <th>11</th>\n",
       "      <td>Carlene</td>\n",
       "      <td>Mcclure</td>\n",
       "      <td>History</td>\n",
       "      <td>93</td>\n",
       "    </tr>\n",
       "    <tr>\n",
       "      <th>12</th>\n",
       "      <td>Lynne</td>\n",
       "      <td>Richard</td>\n",
       "      <td>Math</td>\n",
       "      <td>88</td>\n",
       "    </tr>\n",
       "    <tr>\n",
       "      <th>13</th>\n",
       "      <td>Lynne</td>\n",
       "      <td>Richard</td>\n",
       "      <td>English</td>\n",
       "      <td>99</td>\n",
       "    </tr>\n",
       "    <tr>\n",
       "      <th>14</th>\n",
       "      <td>Lynne</td>\n",
       "      <td>Richard</td>\n",
       "      <td>History</td>\n",
       "      <td>90</td>\n",
       "    </tr>\n",
       "  </tbody>\n",
       "</table>\n",
       "</div>"
      ],
      "text/plain": [
       "   first_name last_name  subject  grade\n",
       "0      Randal  Woodward     Math     90\n",
       "1      Randal  Woodward  English     95\n",
       "2      Randal  Woodward  History     98\n",
       "3    Mauricio    Fisher     Math     80\n",
       "4    Mauricio    Fisher  English     85\n",
       "5    Mauricio    Fisher  History     88\n",
       "6      Miguel     Horne     Math     90\n",
       "7      Miguel     Horne  English     90\n",
       "8      Miguel     Horne  History     90\n",
       "9     Carlene   Mcclure     Math     89\n",
       "10    Carlene   Mcclure  English     91\n",
       "11    Carlene   Mcclure  History     93\n",
       "12      Lynne   Richard     Math     88\n",
       "13      Lynne   Richard  English     99\n",
       "14      Lynne   Richard  History     90"
      ]
     },
     "execution_count": 23,
     "metadata": {},
     "output_type": "execute_result"
    }
   ],
   "source": [
    "#2. Use JOIN queries to combine the data from both tables into a single DataFrame that includes each student's name, subject, and grade.\n",
    "df_students_and_grades = pd.read_sql_query(\"\"\"SELECT students.first_name, students.last_name, grades.subject, grades.grade \n",
    "FROM students\n",
    "JOIN grades ON grades.student_id = students.student_id;\"\"\", connection)\n",
    "df_students_and_grades"
   ]
  },
  {
   "cell_type": "code",
   "execution_count": 25,
   "id": "3bb78417-b920-4c0c-93b6-2b72d3b7f5ce",
   "metadata": {},
   "outputs": [
    {
     "data": {
      "image/png": "[encoded data removed]",
      "text/plain": [
       "<Figure size 500x500 with 1 Axes>"
      ]
     },
     "metadata": {},
     "output_type": "display_data"
    }
   ],
   "source": [
    "#3. Visualize the data with Matplotlib:\n",
    "#a. Plot the average grades for each student.\n",
    "import matplotlib.pyplot as plt\n",
    "\n",
    "df_students_and_grades = pd.read_sql_query(\"\"\"SELECT students.first_name, students.last_name, grades.subject, AVG(grades.grade) as \"Average Grade\" \n",
    "FROM students\n",
    "JOIN grades ON grades.student_id = students.student_id\n",
    "GROUP BY grades.student_id\n",
    ";\"\"\", connection)\n",
    "\n",
    "plt.figure(figsize=(5,5))\n",
    "plt.scatter(df_students_and_grades['first_name'], df_students_and_grades[\"Average Grade\"])\n",
    "plt.xlabel('Student')\n",
    "plt.ylabel('Average Grade')\n",
    "plt.title('Average Grade for Each Student')\n",
    "plt.show()"
   ]
  },
  {
   "cell_type": "code",
   "execution_count": 41,
   "id": "f05d53d0-00b3-4a30-99c9-74576262c914",
   "metadata": {},
   "outputs": [
    {
     "data": {
      "image/png": "[encoded data removed]",
      "text/plain": [
       "<Figure size 1000x1000 with 1 Axes>"
      ]
     },
     "metadata": {},
     "output_type": "display_data"
    }
   ],
   "source": [
    "#3. Visualize the data with Matplotlib:\n",
    "#b. Create a bar chart showing the average grade for each subject.\n",
    "df_average_grades_subject = pd.read_sql_query(\"\"\"SELECT subject, AVG(grade) as \"Average Grade\" \n",
    "FROM grades\n",
    "GROUP BY subject\n",
    ";\"\"\", connection)\n",
    "\n",
    "x=df_average_grades_subject['subject']\n",
    "y=df_average_grades_subject[\"Average Grade\"]\n",
    "\n",
    "plt.figure(figsize=(10,10))\n",
    "plt.bar(x, y)\n",
    "plt.xlabel('Subject')\n",
    "plt.ylabel('Average Grade')\n",
    "plt.title('Average Grade for Each Subject')\n",
    "\n",
    "def addlabels(x,y):\n",
    "    for i in range(len(x)):\n",
    "        plt.text(i,y[i],y[i])\n",
    "\n",
    "addlabels(x, y)\n",
    "\n",
    "\n",
    "plt.show()"
   ]
  },
  {
   "cell_type": "code",
   "execution_count": null,
   "id": "1f8cd53b-9cb7-49f3-b479-0bd0297b2db9",
   "metadata": {},
   "outputs": [],
   "source": []
  },
  {
   "cell_type": "code",
   "execution_count": null,
   "id": "9bbcadaf-a797-433c-ad55-415c7aff4010",
   "metadata": {},
   "outputs": [],
   "source": []
  }
 ],
 "metadata": {
  "kernelspec": {
   "display_name": "Python 3 (ipykernel)",
   "language": "python",
   "name": "python3"
  },
  "language_info": {
   "codemirror_mode": {
    "name": "ipython",
    "version": 3
   },
   "file_extension": ".py",
   "mimetype": "text/x-python",
   "name": "python",
   "nbconvert_exporter": "python",
   "pygments_lexer": "ipython3",
   "version": "3.12.4"
  }
 },
 "nbformat": 4,
 "nbformat_minor": 5
}
