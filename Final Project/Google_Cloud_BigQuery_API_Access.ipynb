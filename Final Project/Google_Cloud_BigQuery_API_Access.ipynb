{
  "cells": [
    {
      "cell_type": "code",
      "execution_count": null,
      "id": "4481feaf-ce66-45d1-aa66-8835a395bd53",
      "metadata": {
        "id": "4481feaf-ce66-45d1-aa66-8835a395bd53",
        "outputId": "6d835861-72b8-4359-f5c0-a2b5e53d512f"
      },
      "outputs": [
        {
          "name": "stdout",
          "output_type": "stream",
          "text": [
            "Requirement already satisfied: google-api-python-client in c:\\users\\13012\\anaconda3\\lib\\site-packages (2.154.0)\n",
            "Requirement already satisfied: google-auth in c:\\users\\13012\\anaconda3\\lib\\site-packages (2.36.0)\n",
            "Requirement already satisfied: requests in c:\\users\\13012\\anaconda3\\lib\\site-packages (2.32.2)\n",
            "Requirement already satisfied: httplib2<1.dev0,>=0.19.0 in c:\\users\\13012\\anaconda3\\lib\\site-packages (from google-api-python-client) (0.22.0)\n",
            "Requirement already satisfied: google-auth-httplib2<1.0.0,>=0.2.0 in c:\\users\\13012\\anaconda3\\lib\\site-packages (from google-api-python-client) (0.2.0)\n",
            "Requirement already satisfied: google-api-core!=2.0.*,!=2.1.*,!=2.2.*,!=2.3.0,<3.0.0.dev0,>=1.31.5 in c:\\users\\13012\\anaconda3\\lib\\site-packages (from google-api-python-client) (2.23.0)\n",
            "Requirement already satisfied: uritemplate<5,>=3.0.1 in c:\\users\\13012\\anaconda3\\lib\\site-packages (from google-api-python-client) (4.1.1)\n",
            "Requirement already satisfied: cachetools<6.0,>=2.0.0 in c:\\users\\13012\\anaconda3\\lib\\site-packages (from google-auth) (5.3.3)\n",
            "Requirement already satisfied: pyasn1-modules>=0.2.1 in c:\\users\\13012\\anaconda3\\lib\\site-packages (from google-auth) (0.2.8)\n",
            "Requirement already satisfied: rsa<5,>=3.1.4 in c:\\users\\13012\\anaconda3\\lib\\site-packages (from google-auth) (4.9)\n",
            "Requirement already satisfied: charset-normalizer<4,>=2 in c:\\users\\13012\\anaconda3\\lib\\site-packages (from requests) (2.0.4)\n",
            "Requirement already satisfied: idna<4,>=2.5 in c:\\users\\13012\\anaconda3\\lib\\site-packages (from requests) (3.7)\n",
            "Requirement already satisfied: urllib3<3,>=1.21.1 in c:\\users\\13012\\anaconda3\\lib\\site-packages (from requests) (2.2.2)\n",
            "Requirement already satisfied: certifi>=2017.4.17 in c:\\users\\13012\\anaconda3\\lib\\site-packages (from requests) (2024.8.30)\n",
            "Requirement already satisfied: googleapis-common-protos<2.0.dev0,>=1.56.2 in c:\\users\\13012\\anaconda3\\lib\\site-packages (from google-api-core!=2.0.*,!=2.1.*,!=2.2.*,!=2.3.0,<3.0.0.dev0,>=1.31.5->google-api-python-client) (1.66.0)\n",
            "Requirement already satisfied: protobuf!=3.20.0,!=3.20.1,!=4.21.0,!=4.21.1,!=4.21.2,!=4.21.3,!=4.21.4,!=4.21.5,<6.0.0.dev0,>=3.19.5 in c:\\users\\13012\\anaconda3\\lib\\site-packages (from google-api-core!=2.0.*,!=2.1.*,!=2.2.*,!=2.3.0,<3.0.0.dev0,>=1.31.5->google-api-python-client) (5.29.0)\n",
            "Requirement already satisfied: proto-plus<2.0.0dev,>=1.22.3 in c:\\users\\13012\\anaconda3\\lib\\site-packages (from google-api-core!=2.0.*,!=2.1.*,!=2.2.*,!=2.3.0,<3.0.0.dev0,>=1.31.5->google-api-python-client) (1.25.0)\n",
            "Requirement already satisfied: pyparsing!=3.0.0,!=3.0.1,!=3.0.2,!=3.0.3,<4,>=2.4.2 in c:\\users\\13012\\anaconda3\\lib\\site-packages (from httplib2<1.dev0,>=0.19.0->google-api-python-client) (3.0.9)\n",
            "Requirement already satisfied: pyasn1<0.5.0,>=0.4.6 in c:\\users\\13012\\anaconda3\\lib\\site-packages (from pyasn1-modules>=0.2.1->google-auth) (0.4.8)\n"
          ]
        }
      ],
      "source": [
        "!pip install google-api-python-client google-auth requests"
      ]
    },
    {
      "cell_type": "code",
      "execution_count": null,
      "id": "880e0805-6b8e-45bc-8c98-4b1c29a146d3",
      "metadata": {
        "id": "880e0805-6b8e-45bc-8c98-4b1c29a146d3",
        "outputId": "1a390cfd-31bb-4f51-947b-3fc232cf09fc"
      },
      "outputs": [
        {
          "name": "stdout",
          "output_type": "stream",
          "text": [
            "Requirement already satisfied: google-cloud-bigquery in c:\\users\\13012\\anaconda3\\lib\\site-packages (3.27.0)\n",
            "Requirement already satisfied: google-api-core<3.0.0dev,>=2.11.1 in c:\\users\\13012\\anaconda3\\lib\\site-packages (from google-api-core[grpc]<3.0.0dev,>=2.11.1->google-cloud-bigquery) (2.23.0)\n",
            "Requirement already satisfied: google-auth<3.0.0dev,>=2.14.1 in c:\\users\\13012\\anaconda3\\lib\\site-packages (from google-cloud-bigquery) (2.36.0)\n",
            "Requirement already satisfied: google-cloud-core<3.0.0dev,>=2.4.1 in c:\\users\\13012\\anaconda3\\lib\\site-packages (from google-cloud-bigquery) (2.4.1)\n",
            "Requirement already satisfied: google-resumable-media<3.0dev,>=2.0.0 in c:\\users\\13012\\anaconda3\\lib\\site-packages (from google-cloud-bigquery) (2.7.2)\n",
            "Requirement already satisfied: packaging>=20.0.0 in c:\\users\\13012\\anaconda3\\lib\\site-packages (from google-cloud-bigquery) (23.2)\n",
            "Requirement already satisfied: python-dateutil<3.0dev,>=2.7.3 in c:\\users\\13012\\anaconda3\\lib\\site-packages (from google-cloud-bigquery) (2.9.0.post0)\n",
            "Requirement already satisfied: requests<3.0.0dev,>=2.21.0 in c:\\users\\13012\\anaconda3\\lib\\site-packages (from google-cloud-bigquery) (2.32.2)\n",
            "Requirement already satisfied: googleapis-common-protos<2.0.dev0,>=1.56.2 in c:\\users\\13012\\anaconda3\\lib\\site-packages (from google-api-core<3.0.0dev,>=2.11.1->google-api-core[grpc]<3.0.0dev,>=2.11.1->google-cloud-bigquery) (1.66.0)\n",
            "Requirement already satisfied: protobuf!=3.20.0,!=3.20.1,!=4.21.0,!=4.21.1,!=4.21.2,!=4.21.3,!=4.21.4,!=4.21.5,<6.0.0.dev0,>=3.19.5 in c:\\users\\13012\\anaconda3\\lib\\site-packages (from google-api-core<3.0.0dev,>=2.11.1->google-api-core[grpc]<3.0.0dev,>=2.11.1->google-cloud-bigquery) (5.29.0)\n",
            "Requirement already satisfied: proto-plus<2.0.0dev,>=1.22.3 in c:\\users\\13012\\anaconda3\\lib\\site-packages (from google-api-core<3.0.0dev,>=2.11.1->google-api-core[grpc]<3.0.0dev,>=2.11.1->google-cloud-bigquery) (1.25.0)\n",
            "Requirement already satisfied: grpcio<2.0dev,>=1.33.2 in c:\\users\\13012\\anaconda3\\lib\\site-packages (from google-api-core[grpc]<3.0.0dev,>=2.11.1->google-cloud-bigquery) (1.68.0)\n",
            "Requirement already satisfied: grpcio-status<2.0.dev0,>=1.33.2 in c:\\users\\13012\\anaconda3\\lib\\site-packages (from google-api-core[grpc]<3.0.0dev,>=2.11.1->google-cloud-bigquery) (1.68.0)\n",
            "Requirement already satisfied: cachetools<6.0,>=2.0.0 in c:\\users\\13012\\anaconda3\\lib\\site-packages (from google-auth<3.0.0dev,>=2.14.1->google-cloud-bigquery) (5.3.3)\n",
            "Requirement already satisfied: pyasn1-modules>=0.2.1 in c:\\users\\13012\\anaconda3\\lib\\site-packages (from google-auth<3.0.0dev,>=2.14.1->google-cloud-bigquery) (0.2.8)\n",
            "Requirement already satisfied: rsa<5,>=3.1.4 in c:\\users\\13012\\anaconda3\\lib\\site-packages (from google-auth<3.0.0dev,>=2.14.1->google-cloud-bigquery) (4.9)\n",
            "Requirement already satisfied: google-crc32c<2.0dev,>=1.0 in c:\\users\\13012\\anaconda3\\lib\\site-packages (from google-resumable-media<3.0dev,>=2.0.0->google-cloud-bigquery) (1.6.0)\n",
            "Requirement already satisfied: six>=1.5 in c:\\users\\13012\\anaconda3\\lib\\site-packages (from python-dateutil<3.0dev,>=2.7.3->google-cloud-bigquery) (1.16.0)\n",
            "Requirement already satisfied: charset-normalizer<4,>=2 in c:\\users\\13012\\anaconda3\\lib\\site-packages (from requests<3.0.0dev,>=2.21.0->google-cloud-bigquery) (2.0.4)\n",
            "Requirement already satisfied: idna<4,>=2.5 in c:\\users\\13012\\anaconda3\\lib\\site-packages (from requests<3.0.0dev,>=2.21.0->google-cloud-bigquery) (3.7)\n",
            "Requirement already satisfied: urllib3<3,>=1.21.1 in c:\\users\\13012\\anaconda3\\lib\\site-packages (from requests<3.0.0dev,>=2.21.0->google-cloud-bigquery) (2.2.2)\n",
            "Requirement already satisfied: certifi>=2017.4.17 in c:\\users\\13012\\anaconda3\\lib\\site-packages (from requests<3.0.0dev,>=2.21.0->google-cloud-bigquery) (2024.8.30)\n",
            "Requirement already satisfied: pyasn1<0.5.0,>=0.4.6 in c:\\users\\13012\\anaconda3\\lib\\site-packages (from pyasn1-modules>=0.2.1->google-auth<3.0.0dev,>=2.14.1->google-cloud-bigquery) (0.4.8)\n"
          ]
        }
      ],
      "source": [
        "#Install Google BigQuery library into Jupyter Notebook\n",
        "!pip install google-cloud-bigquery"
      ]
    },
    {
      "cell_type": "code",
      "execution_count": null,
      "id": "c13b062c-4c15-46a9-90d1-4b336ff1728a",
      "metadata": {
        "id": "c13b062c-4c15-46a9-90d1-4b336ff1728a",
        "outputId": "1292c04f-1c3b-4f6b-cea4-896fee94a6cf"
      },
      "outputs": [
        {
          "name": "stdout",
          "output_type": "stream",
          "text": [
            "Row(('Alabama', 163344.4979517636, 164399.8434355513), {'state': 0, '2020-01_Zillow': 1, '2020-02_Zillow': 2})\n",
            "Row(('Kansas', 154984.09340102997, 156116.69091562706), {'state': 0, '2020-01_Zillow': 1, '2020-02_Zillow': 2})\n",
            "Row(('Michigan', 173824.11755868935, 175011.68001431212), {'state': 0, '2020-01_Zillow': 1, '2020-02_Zillow': 2})\n",
            "Row(('Virginia', 278908.2893761586, 280507.1274870872), {'state': 0, '2020-01_Zillow': 1, '2020-02_Zillow': 2})\n",
            "Row(('West Virginia', 119170.7588177109, 119650.18221785485), {'state': 0, '2020-01_Zillow': 1, '2020-02_Zillow': 2})\n",
            "Row(('Florida', 248142.68702797056, 249951.2915885148), {'state': 0, '2020-01_Zillow': 1, '2020-02_Zillow': 2})\n",
            "Row(('Georgia', 207374.30304645235, 208924.60986849532), {'state': 0, '2020-01_Zillow': 1, '2020-02_Zillow': 2})\n",
            "Row(('Mississippi', 140918.29388401596, 141207.3960208439), {'state': 0, '2020-01_Zillow': 1, '2020-02_Zillow': 2})\n",
            "Row(('New York', 351551.0571640061, 353300.4154822466), {'state': 0, '2020-01_Zillow': 1, '2020-02_Zillow': 2})\n",
            "Row(('Wyoming', 261155.98770541136, 262116.1686457437), {'state': 0, '2020-01_Zillow': 1, '2020-02_Zillow': 2})\n"
          ]
        }
      ],
      "source": [
        "#Accessing BigQuery API using client library\n",
        "\n",
        "import os\n",
        "from google.cloud import bigquery\n",
        "\n",
        "#Authenticates user with service account private key that is downloaded as a JSON file\n",
        "os.environ['GOOGLE_APPLICATION_CREDENTIALS'] = \"ds-2002-final-project-service.json\"\n",
        "\n",
        "#Uses Big Query client for SQL queries\n",
        "client = bigquery.Client()\n",
        "sql_query = \"\"\"\n",
        "SELECT state, `2020-01_Zillow`, `2020-02_Zillow`\n",
        "\n",
        "FROM\n",
        "  `ds-2002-final-project-443301.ZHVI_COVID_Cases_Merged.Zillow Home Value Index and COVID-19 Cases over 2020-2022`\n",
        "LIMIT 10;\n",
        "\"\"\"\n",
        "\n",
        "query_job = client.query(sql_query)\n",
        "for row in query_job.result():\n",
        "    print(row)"
      ]
    },
    {
      "cell_type": "code",
      "execution_count": null,
      "id": "621270f9-718a-43e5-8cf0-641727f3c871",
      "metadata": {
        "id": "621270f9-718a-43e5-8cf0-641727f3c871"
      },
      "outputs": [],
      "source": [
        "# DOCUMENTATION\n",
        "# Cloud Storage Setup:\n",
        "    # Our transformed data was stored in a Google Cloud project in BigQuery Studio\n",
        "    # Google Cloud Project Name: DS 2002 Final Project\n",
        "    # Dataset ID: ds-2002-final-project-443301.ZHVI_COVID_Cases_Merged\n",
        "    # Data Table Name: Zillow Home Value Index and COVID-19 Cases over 2020-2022\n",
        "# Credentials Management:\n",
        "    # We created a service account with a private key to access the BigQuery API to our data\n",
        "    # service account = cloud-admin@ds-2002-final-project-443301.iam.gserviceaccount.com\n",
        "    # private key name: ds-2002-final-project-service.json\n",
        "# Access Control:\n",
        "    # Access to our data is controlled in the IAM section of the Google Cloud console.\n",
        "    # Each was added as a principal editor and owner by email address.\n",
        "\n",
        "# Data was confimed to be accessible for analysis using the sample SQL query above."
      ]
    }
  ],
  "metadata": {
    "kernelspec": {
      "display_name": "Python 3 (ipykernel)",
      "language": "python",
      "name": "python3"
    },
    "language_info": {
      "codemirror_mode": {
        "name": "ipython",
        "version": 3
      },
      "file_extension": ".py",
      "mimetype": "text/x-python",
      "name": "python",
      "nbconvert_exporter": "python",
      "pygments_lexer": "ipython3",
      "version": "3.12.4"
    },
    "colab": {
      "provenance": []
    }
  },
  "nbformat": 4,
  "nbformat_minor": 5
}