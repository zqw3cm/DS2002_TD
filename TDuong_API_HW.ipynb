{
 "cells": [
  {
   "cell_type": "code",
   "execution_count": null,
   "id": "79ed4f33-2161-461e-85d1-ad63b3cf17c2",
   "metadata": {},
   "outputs": [],
   "source": [
    "#API Homework - DS 2002\n",
    "#09/29/2024\n",
    "#Teresa Duong"
   ]
  },
  {
   "cell_type": "code",
   "execution_count": 67,
   "id": "f5e3301b-d1f4-4027-8948-1626023a5f3b",
   "metadata": {},
   "outputs": [
    {
     "name": "stdout",
     "output_type": "stream",
     "text": [
      "Please input ticker symbol here:\n"
     ]
    },
    {
     "name": "stdin",
     "output_type": "stream",
     "text": [
      " AZN\n"
     ]
    }
   ],
   "source": [
    "#1. Takes user input for a stock (using the Ticker Symbol): IE with the input() command\n",
    "print(\"Please input ticker symbol here:\")\n",
    "ticker=input()"
   ]
  },
  {
   "cell_type": "code",
   "execution_count": 69,
   "id": "20bdc077-86d8-40b5-b3b6-9a85ccedd693",
   "metadata": {},
   "outputs": [
    {
     "name": "stdout",
     "output_type": "stream",
     "text": [
      "{\"quoteResponse\":{\"result\":[{\"language\":\"en-US\",\"region\":\"US\",\"quoteType\":\"EQUITY\",\"typeDisp\":\"Equity\",\"quoteSourceName\":\"Nasdaq Real Time Price\",\"triggerable\":true,\"customPriceAlertConfidence\":\"HIGH\",\"currency\":\"USD\",\"marketState\":\"CLOSED\",\"regularMarketChangePercent\":-0.7162926,\"regularMarketPrice\":77.62,\"exchange\":\"NMS\",\"shortName\":\"Astrazeneca PLC\",\"longName\":\"AstraZeneca PLC\",\"messageBoardId\":\"finmb_336774\",\"exchangeTimezoneName\":\"America/New_York\",\"exchangeTimezoneShortName\":\"EDT\",\"gmtOffSetMilliseconds\":-14400000,\"market\":\"us_market\",\"esgPopulated\":false,\"forwardPE\":13.689594,\"priceToBook\":3.0448768,\"sourceInterval\":15,\"exchangeDataDelayedBy\":0,\"averageAnalystRating\":\"1.7 - Buy\",\"tradeable\":false,\"cryptoTradeable\":false,\"hasPrePostMarketData\":true,\"firstTradeDateMilliseconds\":737213400000,\"priceHint\":2,\"postMarketChangePercent\":-0.154603,\"postMarketTime\":1727480130,\"postMarketPrice\":77.5,\"postMarketChange\":-0.120003,\"regularMarketChange\":-0.55999756,\"regularMarketTime\":1727467201,\"regularMarketDayHigh\":78.22,\"regularMarketDayRange\":\"77.61 - 78.22\",\"regularMarketDayLow\":77.61,\"regularMarketVolume\":3172350,\"regularMarketPreviousClose\":78.18,\"bid\":77.59,\"ask\":77.72,\"bidSize\":5,\"askSize\":2,\"fullExchangeName\":\"NasdaqGS\",\"financialCurrency\":\"USD\",\"regularMarketOpen\":78.05,\"averageDailyVolume3Month\":4469703,\"averageDailyVolume10Day\":3709560,\"fiftyTwoWeekLowChange\":17.150002,\"fiftyTwoWeekLowChangePercent\":0.2836117,\"fiftyTwoWeekRange\":\"60.47 - 87.68\",\"fiftyTwoWeekHighChange\":-10.059998,\"fiftyTwoWeekHighChangePercent\":-0.11473537,\"fiftyTwoWeekLow\":60.47,\"fiftyTwoWeekHigh\":87.68,\"fiftyTwoWeekChangePercent\":16.319502,\"dividendDate\":1725840000,\"earningsTimestamp\":1731394800,\"earningsTimestampStart\":1731394800,\"earningsTimestampEnd\":1731394800,\"earningsCallTimestampStart\":1721904300,\"earningsCallTimestampEnd\":1721904300,\"isEarningsDateEstimate\":false,\"trailingAnnualDividendRate\":2.97,\"trailingPE\":37.679615,\"dividendRate\":1.49,\"trailingAnnualDividendYield\":0.037989255,\"dividendYield\":1.91,\"epsTrailingTwelveMonths\":2.06,\"epsForward\":5.67,\"epsCurrentYear\":5.0,\"priceEpsCurrentYear\":15.524,\"sharesOutstanding\":3100570112,\"bookValue\":25.492,\"fiftyDayAverage\":81.5052,\"fiftyDayAverageChange\":-3.8852005,\"fiftyDayAverageChangePercent\":-0.04766813,\"twoHundredDayAverage\":73.63055,\"twoHundredDayAverageChange\":3.9894562,\"twoHundredDayAverageChangePercent\":0.05418208,\"marketCap\":241922932736,\"displayName\":\"AstraZeneca\",\"symbol\":\"AZN\"}],\"error\":null}}\n",
      "{'language': 'en-US', 'region': 'US', 'quoteType': 'EQUITY', 'typeDisp': 'Equity', 'quoteSourceName': 'Nasdaq Real Time Price', 'triggerable': True, 'customPriceAlertConfidence': 'HIGH', 'currency': 'USD', 'marketState': 'CLOSED', 'regularMarketChangePercent': -0.7162926, 'regularMarketPrice': 77.62, 'exchange': 'NMS', 'shortName': 'Astrazeneca PLC', 'longName': 'AstraZeneca PLC', 'messageBoardId': 'finmb_336774', 'exchangeTimezoneName': 'America/New_York', 'exchangeTimezoneShortName': 'EDT', 'gmtOffSetMilliseconds': -14400000, 'market': 'us_market', 'esgPopulated': False, 'forwardPE': 13.689594, 'priceToBook': 3.0448768, 'sourceInterval': 15, 'exchangeDataDelayedBy': 0, 'averageAnalystRating': '1.7 - Buy', 'tradeable': False, 'cryptoTradeable': False, 'hasPrePostMarketData': True, 'firstTradeDateMilliseconds': 737213400000, 'priceHint': 2, 'postMarketChangePercent': -0.154603, 'postMarketTime': 1727480130, 'postMarketPrice': 77.5, 'postMarketChange': -0.120003, 'regularMarketChange': -0.55999756, 'regularMarketTime': 1727467201, 'regularMarketDayHigh': 78.22, 'regularMarketDayRange': '77.61 - 78.22', 'regularMarketDayLow': 77.61, 'regularMarketVolume': 3172350, 'regularMarketPreviousClose': 78.18, 'bid': 77.59, 'ask': 77.72, 'bidSize': 5, 'askSize': 2, 'fullExchangeName': 'NasdaqGS', 'financialCurrency': 'USD', 'regularMarketOpen': 78.05, 'averageDailyVolume3Month': 4469703, 'averageDailyVolume10Day': 3709560, 'fiftyTwoWeekLowChange': 17.150002, 'fiftyTwoWeekLowChangePercent': 0.2836117, 'fiftyTwoWeekRange': '60.47 - 87.68', 'fiftyTwoWeekHighChange': -10.059998, 'fiftyTwoWeekHighChangePercent': -0.11473537, 'fiftyTwoWeekLow': 60.47, 'fiftyTwoWeekHigh': 87.68, 'fiftyTwoWeekChangePercent': 16.319502, 'dividendDate': 1725840000, 'earningsTimestamp': 1731394800, 'earningsTimestampStart': 1731394800, 'earningsTimestampEnd': 1731394800, 'earningsCallTimestampStart': 1721904300, 'earningsCallTimestampEnd': 1721904300, 'isEarningsDateEstimate': False, 'trailingAnnualDividendRate': 2.97, 'trailingPE': 37.679615, 'dividendRate': 1.49, 'trailingAnnualDividendYield': 0.037989255, 'dividendYield': 1.91, 'epsTrailingTwelveMonths': 2.06, 'epsForward': 5.67, 'epsCurrentYear': 5.0, 'priceEpsCurrentYear': 15.524, 'sharesOutstanding': 3100570112, 'bookValue': 25.492, 'fiftyDayAverage': 81.5052, 'fiftyDayAverageChange': -3.8852005, 'fiftyDayAverageChangePercent': -0.04766813, 'twoHundredDayAverage': 73.63055, 'twoHundredDayAverageChange': 3.9894562, 'twoHundredDayAverageChangePercent': 0.05418208, 'marketCap': 241922932736, 'displayName': 'AstraZeneca', 'symbol': 'AZN'}\n",
      "{\"quoteSummary\":{\"result\":[{\"financialData\":{\"maxAge\":86400,\"currentPrice\":{\"raw\":77.62,\"fmt\":\"77.62\"},\"targetHighPrice\":{\"raw\":103.0,\"fmt\":\"103.00\"},\"targetLowPrice\":{\"raw\":74.0,\"fmt\":\"74.00\"},\"targetMeanPrice\":{\"raw\":90.89,\"fmt\":\"90.89\"},\"targetMedianPrice\":{\"raw\":91.7,\"fmt\":\"91.70\"},\"recommendationMean\":{\"raw\":1.7,\"fmt\":\"1.70\"},\"recommendationKey\":\"buy\",\"numberOfAnalystOpinions\":{\"raw\":11,\"fmt\":\"11\",\"longFmt\":\"11\"},\"totalCash\":{\"raw\":7075999744,\"fmt\":\"7.08B\",\"longFmt\":\"7,075,999,744\"},\"totalCashPerShare\":{\"raw\":4.565,\"fmt\":\"4.57\"},\"ebitda\":{\"raw\":16972999680,\"fmt\":\"16.97B\",\"longFmt\":\"16,972,999,680\"},\"totalDebt\":{\"raw\":33645000704,\"fmt\":\"33.65B\",\"longFmt\":\"33,645,000,704\"},\"quickRatio\":{\"raw\":0.69,\"fmt\":\"0.69\"},\"currentRatio\":{\"raw\":0.889,\"fmt\":\"0.89\"},\"totalRevenue\":{\"raw\":49132998656,\"fmt\":\"49.13B\",\"longFmt\":\"49,132,998,656\"},\"debtToEquity\":{\"raw\":84.966,\"fmt\":\"84.97%\"},\"revenuePerShare\":{\"raw\":2.632677,\"fmt\":\"2.63\"},\"returnOnAssets\":{\"raw\":0.07683,\"fmt\":\"7.68%\"},\"returnOnEquity\":{\"raw\":0.16736999,\"fmt\":\"16.74%\"},\"grossProfits\":{},\"freeCashflow\":{\"raw\":9822874624,\"fmt\":\"9.82B\",\"longFmt\":\"9,822,874,624\"},\"operatingCashflow\":{\"raw\":11064999936,\"fmt\":\"11.06B\",\"longFmt\":\"11,064,999,936\"},\"earningsGrowth\":{\"raw\":0.06,\"fmt\":\"6.00%\"},\"revenueGrowth\":{\"raw\":0.133,\"fmt\":\"13.30%\"},\"grossMargins\":{\"raw\":0.82619005,\"fmt\":\"82.62%\"},\"ebitdaMargins\":{\"raw\":0.34544998,\"fmt\":\"34.54%\"},\"operatingMargins\":{\"raw\":0.22415,\"fmt\":\"22.42%\"},\"profitMargins\":{\"raw\":0.13107,\"fmt\":\"13.11%\"},\"financialCurrency\":\"USD\"}}],\"error\":null}}\n",
      "{\"finance\":{\"result\":[{\"count\":20,\"quotes\":[{\"symbol\":\"^N225\"},{\"symbol\":\"NQ=F\"},{\"symbol\":\"ES=F\"},{\"symbol\":\"AMSC\"},{\"symbol\":\"BTC-USD\"},{\"symbol\":\"GC=F\"},{\"symbol\":\"XRP-USD\"},{\"symbol\":\"PWR\"},{\"symbol\":\"YM=F\"},{\"symbol\":\"JPY=X\"},{\"symbol\":\"SNAP\"},{\"symbol\":\"^VIX\"},{\"symbol\":\"NIO\"},{\"symbol\":\"^HSI\"},{\"symbol\":\"SI=F\"},{\"symbol\":\"9866.HK\"},{\"symbol\":\"XRP-CAD\"},{\"symbol\":\"EME\"},{\"symbol\":\"RTY=F\"},{\"symbol\":\"IONQ\"}],\"jobTimestamp\":1727658666880,\"startInterval\":202409300000}],\"error\":null}}\n"
     ]
    }
   ],
   "source": [
    "#2. You will display back the user: Ticker Name, Full Name of the Stock, Current Market Price, Target Mean Price, 52 week high and 52 week low. \n",
    "#Also, output 5 of the current trending stock.\n",
    "\n",
    "import json\n",
    "import requests\n",
    "\n",
    "apikey=\"I_inserted_my_API_key_here\"\n",
    "headers = {'x-api-key': apikey}\n",
    "querystring = {\"symbols\":ticker}\n",
    "\n",
    "#API Call URLs\n",
    "url_v6 = \"https://yfapi.net/v6/finance/quote\"\n",
    "url_v11 = f\"https://yfapi.net/v11/finance/quoteSummary/{ticker}?lang=en&region=US&modules=financialData\"\n",
    "url_v1 = f\"https://yfapi.net/v1/finance/trending/US\"\n",
    "\n",
    "try:\n",
    "    response_v6 = requests.get(url_v6, headers=headers, params=querystring)\n",
    "    print(response_v6.text)\n",
    "    stock_json_v6 = response_v6.json()\n",
    "    print(stock_json_v6['quoteResponse']['result'][0])\n",
    "          \n",
    "    response_v11 = requests.get(url_v11, headers=headers, params=querystring)\n",
    "    print(response_v11.text)\n",
    "    stock_json_v11 = response_v11.json()\n",
    "        \n",
    "    response_v1 = requests.get(url_v1, headers=headers, params=querystring)\n",
    "    print(response_v1.text)\n",
    "    stock_json_v1 = response_v1.json()\n",
    "except KeyError as k:\n",
    "    print(f\"KeyError: {k} key may not be in the json for this stock.\")\n",
    "except IndexError as I:\n",
    "    print (f\"Index Error: {I}; this list is empty, and this stock may not exist\")\n",
    "\n",
    "#4. Handle Errors (IE, the stock doesn’t exist and/or the API is not returning information)\n",
    "# Error handling was accounted using the try-except method; this was tested by inputting nonexistant stock \"ABCDE\" and stock with missing keys \"APPL\"."
   ]
  },
  {
   "cell_type": "code",
   "execution_count": 71,
   "id": "8efc2ba6-c956-460e-8aa0-fdd6d3d2144d",
   "metadata": {},
   "outputs": [
    {
     "name": "stdout",
     "output_type": "stream",
     "text": [
      "Ticker Name: AZN\n",
      "Full Name of Stock: AstraZeneca PLC\n",
      "Current Market Price: $77.62\n",
      "Target Mean Price: $90.89\n",
      "52 Week High: $87.68\n",
      "52 Week Low: $60.47\n",
      "Top Five Trending Stocks in the US: \n",
      "['^N225']\n",
      "['NQ=F']\n",
      "['ES=F']\n",
      "['AMSC']\n",
      "['BTC-USD']\n"
     ]
    }
   ],
   "source": [
    "#2. You will display back the user: Ticker Name, Full Name of the Stock, Current Market Price, Target Mean Price, 52 week high and 52 week low. \n",
    "#Also, output 5 of the current trending stock.\n",
    "\n",
    "try:\n",
    "    #Ticker Name\n",
    "    ticker_name = stock_json_v6['quoteResponse']['result'][0][\"symbol\"]\n",
    "    print(f\"Ticker Name: {ticker_name}\")\n",
    "\n",
    "    #Full Name of Stock\n",
    "    full_name_of_stock = stock_json_v6['quoteResponse']['result'][0][\"longName\"]\n",
    "    print(f\"Full Name of Stock: {full_name_of_stock}\")\n",
    "\n",
    "    # Current Market Price\n",
    "    current_market_price = stock_json_v11['quoteSummary']['result'][0][\"financialData\"][\"currentPrice\"][\"raw\"]\n",
    "    print(f\"Current Market Price: ${current_market_price}\")\n",
    "    #note to self: result is an array\n",
    "\n",
    "    #Target Mean Price\n",
    "    target_mean_price = stock_json_v11['quoteSummary']['result'][0][\"financialData\"][\"targetMeanPrice\"][\"raw\"]\n",
    "    print(f\"Target Mean Price: ${target_mean_price}\")\n",
    "\n",
    "    #52 Week High\n",
    "    fifty_two_week_high = stock_json_v6['quoteResponse']['result'][0][\"fiftyTwoWeekHigh\"]\n",
    "    print(f\"52 Week High: ${fifty_two_week_high}\")\n",
    "    \n",
    "    #52 Week Low\n",
    "    fifty_two_week_low = stock_json_v6['quoteResponse']['result'][0][\"fiftyTwoWeekLow\"]\n",
    "    print(f\"52 Week Low: ${fifty_two_week_low}\")\n",
    "\n",
    "except KeyError as k:\n",
    "    print(f\"KeyError: {k} not in this stock data\")\n",
    "except IndexError as I:\n",
    "    print (f\"Index Error: {I}; this list is empty, and this stock may not exist\")\n",
    "#4. Handle Errors (IE, the stock doesn’t exist and/or the API is not returning information)\n",
    "# Error handling was accounted using the try-except method; this was tested by inputting nonexistant stock \"ABCDE\" and stock with missing keys \"APPL\".\n",
    "\n",
    "#Current Trending Stocks\n",
    "print (f\"Top Five Trending Stocks in the US: \")\n",
    "for quote in stock_json_v1['finance']['result'][0][\"quotes\"][:5]:\n",
    "    print([quote['symbol']])\n",
    "    \n"
   ]
  },
  {
   "cell_type": "code",
   "execution_count": 73,
   "id": "f3027d84-c14a-4b8f-aa8e-a9beaf3a1fdd",
   "metadata": {},
   "outputs": [
    {
     "name": "stdout",
     "output_type": "stream",
     "text": [
      "Selected Data for Inputted Stock\n"
     ]
    },
    {
     "data": {
      "text/html": [
       "<div>\n",
       "<style scoped>\n",
       "    .dataframe tbody tr th:only-of-type {\n",
       "        vertical-align: middle;\n",
       "    }\n",
       "\n",
       "    .dataframe tbody tr th {\n",
       "        vertical-align: top;\n",
       "    }\n",
       "\n",
       "    .dataframe thead th {\n",
       "        text-align: right;\n",
       "    }\n",
       "</style>\n",
       "<table border=\"1\" class=\"dataframe\">\n",
       "  <thead>\n",
       "    <tr style=\"text-align: right;\">\n",
       "      <th></th>\n",
       "      <th>Ticker Name</th>\n",
       "      <th>Full Name of Stock</th>\n",
       "      <th>Current Market Price</th>\n",
       "      <th>Target Mean Price</th>\n",
       "      <th>52 Week High</th>\n",
       "      <th>52 Week Low</th>\n",
       "    </tr>\n",
       "  </thead>\n",
       "  <tbody>\n",
       "    <tr>\n",
       "      <th>0</th>\n",
       "      <td>AZN</td>\n",
       "      <td>AstraZeneca PLC</td>\n",
       "      <td>77.62</td>\n",
       "      <td>90.89</td>\n",
       "      <td>87.68</td>\n",
       "      <td>60.47</td>\n",
       "    </tr>\n",
       "  </tbody>\n",
       "</table>\n",
       "</div>"
      ],
      "text/plain": [
       "  Ticker Name Full Name of Stock  Current Market Price  Target Mean Price  \\\n",
       "0         AZN    AstraZeneca PLC                 77.62              90.89   \n",
       "\n",
       "   52 Week High  52 Week Low  \n",
       "0         87.68        60.47  "
      ]
     },
     "metadata": {},
     "output_type": "display_data"
    }
   ],
   "source": [
    "#3. Put that data in a DataFrame and then store that to a CSV file\n",
    "import pandas as pd\n",
    "\n",
    "Stock_API_data = {\n",
    "    'Ticker Name' : [ticker_name],\n",
    "    'Full Name of Stock' : [full_name_of_stock],\n",
    "    'Current Market Price' : [current_market_price],\n",
    "    'Target Mean Price' : [target_mean_price],\n",
    "    '52 Week High' : [fifty_two_week_high],\n",
    "    '52 Week Low' : [fifty_two_week_low]\n",
    "}\n",
    "\n",
    "Stock_API_data_df = pd.DataFrame(Stock_API_data)\n",
    "#Note to self: DataFrame is case sensitive\n",
    "print(\"Selected Data for Inputted Stock\")\n",
    "display(Stock_API_data_df)\n",
    "\n",
    "import csv\n",
    "\n",
    "Stock_API_data_df.to_csv('Inputted_Stock_Data.csv', index=False)\n"
   ]
  },
  {
   "cell_type": "code",
   "execution_count": 75,
   "id": "28942c9f-5d25-4804-893c-fb78c726182b",
   "metadata": {},
   "outputs": [
    {
     "name": "stdout",
     "output_type": "stream",
     "text": [
      "Top 5 Trending US Stocks\n"
     ]
    },
    {
     "data": {
      "text/html": [
       "<div>\n",
       "<style scoped>\n",
       "    .dataframe tbody tr th:only-of-type {\n",
       "        vertical-align: middle;\n",
       "    }\n",
       "\n",
       "    .dataframe tbody tr th {\n",
       "        vertical-align: top;\n",
       "    }\n",
       "\n",
       "    .dataframe thead th {\n",
       "        text-align: right;\n",
       "    }\n",
       "</style>\n",
       "<table border=\"1\" class=\"dataframe\">\n",
       "  <thead>\n",
       "    <tr style=\"text-align: right;\">\n",
       "      <th></th>\n",
       "      <th>Rank</th>\n",
       "      <th>Stock</th>\n",
       "    </tr>\n",
       "  </thead>\n",
       "  <tbody>\n",
       "    <tr>\n",
       "      <th>0</th>\n",
       "      <td>1</td>\n",
       "      <td>^N225</td>\n",
       "    </tr>\n",
       "    <tr>\n",
       "      <th>1</th>\n",
       "      <td>2</td>\n",
       "      <td>NQ=F</td>\n",
       "    </tr>\n",
       "    <tr>\n",
       "      <th>2</th>\n",
       "      <td>3</td>\n",
       "      <td>ES=F</td>\n",
       "    </tr>\n",
       "    <tr>\n",
       "      <th>3</th>\n",
       "      <td>4</td>\n",
       "      <td>AMSC</td>\n",
       "    </tr>\n",
       "    <tr>\n",
       "      <th>4</th>\n",
       "      <td>5</td>\n",
       "      <td>BTC-USD</td>\n",
       "    </tr>\n",
       "  </tbody>\n",
       "</table>\n",
       "</div>"
      ],
      "text/plain": [
       "   Rank    Stock\n",
       "0     1    ^N225\n",
       "1     2     NQ=F\n",
       "2     3     ES=F\n",
       "3     4     AMSC\n",
       "4     5  BTC-USD"
      ]
     },
     "metadata": {},
     "output_type": "display_data"
    }
   ],
   "source": [
    "print(\"Top 5 Trending US Stocks\")\n",
    "trending_stock_data = []\n",
    "for i in range(5): \n",
    "    row = {'Rank': i+1, 'Stock' : stock_json_v1['finance']['result'][0][\"quotes\"][i]['symbol']}\n",
    "    trending_stock_data.append(row)\n",
    "trending_stock_data_df = pd.DataFrame(trending_stock_data)\n",
    "display(trending_stock_data_df)\n",
    "\n",
    "trending_stock_data_df.to_csv('Trending_Stock_Data.csv', index=False)\n"
   ]
  }
 ],
 "metadata": {
  "kernelspec": {
   "display_name": "Python 3 (ipykernel)",
   "language": "python",
   "name": "python3"
  },
  "language_info": {
   "codemirror_mode": {
    "name": "ipython",
    "version": 3
   },
   "file_extension": ".py",
   "mimetype": "text/x-python",
   "name": "python",
   "nbconvert_exporter": "python",
   "pygments_lexer": "ipython3",
   "version": "3.12.4"
  }
 },
 "nbformat": 4,
 "nbformat_minor": 5
}
